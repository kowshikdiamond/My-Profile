{
  "nbformat": 4,
  "nbformat_minor": 0,
  "metadata": {
    "colab": {
      "name": "learning.ipynb",
      "provenance": [],
      "authorship_tag": "ABX9TyOmZttISB2KLtPVf3PUj8ud",
      "include_colab_link": true
    },
    "kernelspec": {
      "name": "python3",
      "display_name": "Python 3"
    },
    "language_info": {
      "name": "python"
    }
  },
  "cells": [
    {
      "cell_type": "markdown",
      "metadata": {
        "id": "view-in-github",
        "colab_type": "text"
      },
      "source": [
        "<a href=\"https://colab.research.google.com/github/Stray-God/My-Profile/blob/main/learning.ipynb\" target=\"_parent\"><img src=\"https://colab.research.google.com/assets/colab-badge.svg\" alt=\"Open In Colab\"/></a>"
      ]
    },
    {
      "cell_type": "markdown",
      "source": [
        "**Variables Declaration**\n",
        "\n",
        "In python we can declare variables \n",
        "\n",
        "a,b,c = 1,2,3 \n",
        "\n",
        "where a value is 1 , b is 2 , c is 3.\n",
        "\n",
        "\n",
        "where as in C it's not possible:\n",
        "\n",
        "int a,b,c = 1,2,3 ;    ~ ERROR\n",
        "\n",
        "int a,b,c = (1,2,3) ;   ~ a=0 , b=0 , c =3 "
      ],
      "metadata": {
        "id": "dbcSihjSy71y"
      }
    },
    {
      "cell_type": "markdown",
      "source": [
        "**Key differences in assigning variables**\n",
        "\n",
        "Int , float , str , boolean are immutable in Python \n",
        "\n",
        "[ below is the ex ]\n",
        "\n",
        "In python \n",
        "\n",
        "a = 2\n",
        "b = a\n",
        "a = 4\n",
        "print ( a ,b)  ~ a = 4, b = 2\n",
        "\n",
        "In C\n",
        "\n",
        "if we try to assign new value to same variable it prints error due to redefinition"
      ],
      "metadata": {
        "id": "yiHbNJxBzG5R"
      }
    },
    {
      "cell_type": "markdown",
      "source": [
        "**Nested List**"
      ],
      "metadata": {
        "id": "5KBVA19lm9f6"
      }
    },
    {
      "cell_type": "code",
      "execution_count": null,
      "metadata": {
        "colab": {
          "base_uri": "https://localhost:8080/"
        },
        "id": "LvmuC-DQlwkh",
        "outputId": "7a55641b-405d-41ef-b9ed-1c1158a41ea9"
      },
      "outputs": [
        {
          "output_type": "stream",
          "name": "stdout",
          "text": [
            "2\n",
            "[[1, 2], [3, 4]]\n",
            "[1, 2]\n",
            "1\n"
          ]
        }
      ],
      "source": [
        "l=[[[1,2],[3,4]],[[5,6],[7,8]]]\n",
        "print(len(l))\n",
        "print(l[0])\n",
        "print(l[0][0])\n",
        "print(l[0][0][0])"
      ]
    },
    {
      "cell_type": "markdown",
      "source": [
        "**List comprehension**"
      ],
      "metadata": {
        "id": "s_CIa7E8nDKH"
      }
    },
    {
      "cell_type": "code",
      "source": [
        "#Printing cube of numbers\n",
        "l=[]\n",
        "for i in range(1,11):\n",
        "  l.append(i**3)\n",
        "print(l)"
      ],
      "metadata": {
        "colab": {
          "base_uri": "https://localhost:8080/"
        },
        "id": "AMBsa6hznDbw",
        "outputId": "7f8184bd-b6af-49f0-fc87-3d83b5b4c636"
      },
      "execution_count": null,
      "outputs": [
        {
          "output_type": "stream",
          "name": "stdout",
          "text": [
            "[1, 8, 27, 64, 125, 216, 343, 512, 729, 1000]\n"
          ]
        }
      ]
    },
    {
      "cell_type": "code",
      "source": [
        "#One line code \n",
        "n=int(input())\n",
        "l=[i**3 for i in range(1,n+1)]  # first expresion must\n",
        "print(l)"
      ],
      "metadata": {
        "colab": {
          "base_uri": "https://localhost:8080/"
        },
        "id": "nwicrMR9stBN",
        "outputId": "40f3dd70-b32c-434d-ffdf-67b22e5036b5"
      },
      "execution_count": null,
      "outputs": [
        {
          "output_type": "stream",
          "name": "stdout",
          "text": [
            "10\n",
            "[1, 8, 27, 64, 125, 216, 343, 512, 729, 1000]\n"
          ]
        }
      ]
    },
    {
      "cell_type": "code",
      "source": [
        "#Even numbers\n",
        "#newlist = [expression for item in iterable if condition == True]\n",
        "n=int(input())\n",
        "l=[i for i in range (1,n+1) if i%2==0]\n",
        "print(l)"
      ],
      "metadata": {
        "colab": {
          "base_uri": "https://localhost:8080/"
        },
        "id": "fbkRXcDntW2x",
        "outputId": "0219abe9-ae6d-4eb5-969d-789d38325a3a"
      },
      "execution_count": null,
      "outputs": [
        {
          "output_type": "stream",
          "name": "stdout",
          "text": [
            "10\n",
            "[2, 4, 6, 8, 10]\n"
          ]
        }
      ]
    },
    {
      "cell_type": "markdown",
      "source": [
        "**TUPLES**"
      ],
      "metadata": {
        "id": "Zw_9evcnu76_"
      }
    },
    {
      "cell_type": "code",
      "source": [
        ""
      ],
      "metadata": {
        "id": "lHSQxTMwtXAv"
      },
      "execution_count": null,
      "outputs": []
    }
  ]
}